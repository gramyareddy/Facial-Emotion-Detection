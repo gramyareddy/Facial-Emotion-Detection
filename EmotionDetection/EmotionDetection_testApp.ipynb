{
 "cells": [
  {
   "cell_type": "markdown",
   "metadata": {},
   "source": [
    "# Sample Code to test Emotion Detection model's performance"
   ]
  },
  {
   "cell_type": "code",
   "execution_count": 1,
   "metadata": {},
   "outputs": [
    {
     "name": "stderr",
     "output_type": "stream",
     "text": [
      "Using TensorFlow backend.\n"
     ]
    },
    {
     "name": "stdout",
     "output_type": "stream",
     "text": [
      "imported\n"
     ]
    }
   ],
   "source": [
    "import cv2\n",
    "import numpy as np\n",
    "import os\n",
    "import glob\n",
    "import time\n",
    "from keras.models import model_from_json, load_model\n",
    "\n",
    "print(\"imported\")"
   ]
  },
  {
   "cell_type": "code",
   "execution_count": 2,
   "metadata": {},
   "outputs": [
    {
     "name": "stdout",
     "output_type": "stream",
     "text": [
      "Loaded model from disk\n"
     ]
    }
   ],
   "source": [
    "#load model\n",
    "\n",
    "json_file = open('C:\\\\MyLearnings\\\\DeepLearning\\\\Object Detection\\\\Projects\\\\FacialEmotionDetection\\\\Datasets\\\\fer2013_images\\\\fer_images_classes\\\\Model\\\\model_json.json', 'r')\n",
    "loaded_model_json = json_file.read()\n",
    "json_file.close()\n",
    "model = model_from_json(loaded_model_json)\n",
    "# load weights into new model\n",
    "model.load_weights(\"C:\\\\MyLearnings\\\\DeepLearning\\\\Object Detection\\\\Projects\\\\FacialEmotionDetection\\\\Datasets\\\\fer2013_images\\\\fer_images_classes\\\\Model\\\\model.h5\")\n",
    "print(\"Loaded model from disk\")"
   ]
  },
  {
   "cell_type": "code",
   "execution_count": 5,
   "metadata": {},
   "outputs": [],
   "source": [
    "#First 5 sec continuous image save\n",
    "# At each press of C Capture and save image to dataset \n",
    "\"\"\"\n",
    "ALGORITHM\n",
    "==========\n",
    "1. Capture each frame,\n",
    "2.Detect face\n",
    "3.Get coord\n",
    "4.resize to (48,48,1)\n",
    "5.feed to model for prediction\n",
    "6.put text the emotionn\n",
    "\"\"\"\n",
    "face_cascade = cv2.CascadeClassifier('C:\\\\MyLearnings\\\\openCV\\\\HaarCascades\\\\haarcascade_frontalface_default.xml') \n",
    "cap = cv2.VideoCapture(0)\n",
    "\n",
    "while True:\n",
    "    _,frame = cap.read()\n",
    "    # convert to gray scale of each frames \n",
    "    gray = cv2.cvtColor(frame, cv2.COLOR_BGR2GRAY)    \n",
    "    # Tuning the second and third parameter is crucial for accurate detection\n",
    "    #However, a fine tuned value for oneimage may not best fit for another. This is what makes cascades a little inefficient\n",
    "    # Detects faces of different sizes in the input image \n",
    "    faces = face_cascade.detectMultiScale(gray, 1.3, 5) \n",
    "    str = \"\"\n",
    "    for (x,y,w,h) in faces: \n",
    "        # To crop ROI\n",
    "        cv2.rectangle(frame,(x,y),(x+w,y+h),(255,255,0),2) \n",
    "        roi_color = gray[y:y+h, x:x+w] \n",
    "        img = cv2.resize(roi_color,(48,48))\n",
    "        img = np.reshape(img,(1,48,48,1))\n",
    "        pred = model.predict(img)\n",
    "        pred = np.argmax(pred)\n",
    "        if pred == 0:\n",
    "            str = \"Anger\"\n",
    "        elif pred == 1:\n",
    "            str = \"Disgust\"\n",
    "        elif pred == 2:\n",
    "            str = \"Fear\"\n",
    "        elif pred == 3:\n",
    "            str = \"Happy\"\n",
    "        elif pred == 4:\n",
    "            str = \"Neutral\"\n",
    "        elif pred == 5:\n",
    "            str = \"Sad\"\n",
    "        elif pred == 6:\n",
    "            str = \"Surprise\"\n",
    "        cv2.putText(frame,str,(x,y),cv2.FONT_HERSHEY_COMPLEX,0.5,(255,0,0),2)\n",
    "    cv2.imshow(\"frame\",frame)\n",
    "    key = cv2.waitKey(1)\n",
    "    if key == ord('c'):\n",
    "        capture = True\n",
    "    elif key == ord('q'):\n",
    "        break\n",
    "            \n",
    "cap.release()\n",
    "cv2.destroyAllWindows()"
   ]
  },
  {
   "cell_type": "code",
   "execution_count": null,
   "metadata": {},
   "outputs": [],
   "source": []
  }
 ],
 "metadata": {
  "kernelspec": {
   "display_name": "TensorFlow-GPU-1.13",
   "language": "python",
   "name": "tf-gpu"
  },
  "language_info": {
   "codemirror_mode": {
    "name": "ipython",
    "version": 3
   },
   "file_extension": ".py",
   "mimetype": "text/x-python",
   "name": "python",
   "nbconvert_exporter": "python",
   "pygments_lexer": "ipython3",
   "version": "3.7.7"
  }
 },
 "nbformat": 4,
 "nbformat_minor": 4
}
